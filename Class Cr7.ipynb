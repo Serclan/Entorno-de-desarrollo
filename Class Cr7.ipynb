{
 "cells": [
  {
   "cell_type": "code",
   "execution_count": 51,
   "metadata": {},
   "outputs": [],
   "source": [
    "class Personaje:\n",
    "    def __init__(self,nombre,vida,pace,tiro,regate,pase,defensa,fisico): \n",
    "        self.nombre = nombre\n",
    "        self.vida = vida\n",
    "        self.pace = pace\n",
    "        self.tiro = tiro\n",
    "        self.regate = regate\n",
    "        self.pase = pase\n",
    "        self.defensa = defensa\n",
    "        self.fisico = fisico\n",
    "\n",
    "    def atributos(self):\n",
    "        print(self.nombre,\":\",sep=\" \")\n",
    "        print(\"- vida:\", self.vida)\n",
    "        print(\"- pace:\", self.pace)\n",
    "        print(\"- tiro:\", self.tiro)\n",
    "        print(\"- regate\",self.regate)\n",
    "        print(\"- pase\",self.pase)\n",
    "        print(\"- defensa\",self.defensa)\n",
    "        print(\"- fisico\",self.fisico)\n",
    "\n",
    "    def esta_moviendose(self):\n",
    "        return self.pace > 0\n",
    "    \n",
    "    def esta_quieto(self):\n",
    "        self.pace = 0\n",
    "        print(self.nombre, \"Se mueve\")\n",
    "\n",
    "    def derribado(self, defensas):\n",
    "        if defensas.defensa > self.tiro:\n",
    "            return 0\n",
    "        else:\n",
    "            return self.fuerza - defensas.defensa\n",
    "        \n",
    "    def disparar(self, defensas):\n",
    "        disparo = self.disparo(defensas)\n",
    "        defensas.vida = defensas.vida - disparo\n",
    "        print(self.nombre, \" ha realizado un\", disparo, \" y le ha dado a\",defensas.nombre)\n",
    "        if defensas.esta_vivo():\n",
    "            print(\"la vida de\", defensas.nombre, \" es\",defensas.vida)\n",
    "        else: \n",
    "            defensas.derribado()\n",
    "            \n",
    "\n"
   ]
  },
  {
   "cell_type": "code",
   "execution_count": 52,
   "metadata": {},
   "outputs": [],
   "source": [
    "Mi_personaje = Personaje(\"Cristiano\",99,99,99,99,99,99,99)"
   ]
  },
  {
   "cell_type": "code",
   "execution_count": 53,
   "metadata": {},
   "outputs": [
    {
     "name": "stdout",
     "output_type": "stream",
     "text": [
      "Cristiano :\n",
      "- vida: 99\n",
      "- pace: 99\n",
      "- tiro: 99\n",
      "- regate 99\n",
      "- pase 99\n",
      "- defensa 99\n",
      "- fisico 99\n"
     ]
    }
   ],
   "source": [
    "Mi_personaje.atributos()"
   ]
  },
  {
   "cell_type": "code",
   "execution_count": 54,
   "metadata": {},
   "outputs": [
    {
     "name": "stdout",
     "output_type": "stream",
     "text": [
      "Cristiano Se mueve\n",
      "None\n",
      "Cristiano :\n",
      "- vida: 99\n",
      "- pace: 0\n",
      "- tiro: 99\n",
      "- regate 99\n",
      "- pase 99\n",
      "- defensa 99\n",
      "- fisico 99\n"
     ]
    }
   ],
   "source": [
    "Mi_personaje.esta_moviendose()\n",
    "print(Mi_personaje.esta_quieto())\n",
    "Mi_personaje.atributos()"
   ]
  }
 ],
 "metadata": {
  "kernelspec": {
   "display_name": "Python 3",
   "language": "python",
   "name": "python3"
  },
  "language_info": {
   "codemirror_mode": {
    "name": "ipython",
    "version": 3
   },
   "file_extension": ".py",
   "mimetype": "text/x-python",
   "name": "python",
   "nbconvert_exporter": "python",
   "pygments_lexer": "ipython3",
   "version": "3.13.0"
  }
 },
 "nbformat": 4,
 "nbformat_minor": 2
}
